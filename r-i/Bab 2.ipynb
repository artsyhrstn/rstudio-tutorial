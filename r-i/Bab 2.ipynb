{
 "cells": [
  {
   "cell_type": "markdown",
   "metadata": {},
   "source": [
    "# R-Studio Time Series"
   ]
  },
  {
   "cell_type": "markdown",
   "metadata": {},
   "source": [
    "## 2.1. Ordinary Least Squares"
   ]
  },
  {
   "cell_type": "markdown",
   "metadata": {},
   "source": [
    "### 2.1.1. Inisialisasi Data"
   ]
  },
  {
   "cell_type": "code",
   "execution_count": 1,
   "metadata": {},
   "outputs": [
    {
     "name": "stderr",
     "output_type": "stream",
     "text": [
      "\r-\r/\r                                                                              \r\r/\r                                                                              \r\r-\r                                                                              \r"
     ]
    },
    {
     "data": {
      "text/plain": [
       "[1] 11"
      ]
     },
     "execution_count": null,
     "metadata": {},
     "output_type": "execute_result"
    }
   ],
   "source": [
    "library(readxl)\n",
    "data1 <- read_excel('C:\\\\Users\\\\hisbi\\\\iCloudDrive\\\\repository\\\\R-tutorial\\\\data-i\\\\Bab 2\\\\data1.xlsx')\n",
    "length(data1)"
   ]
  },
  {
   "cell_type": "markdown",
   "metadata": {},
   "source": [
    "### 2.1.2. Mengganti Nama Variabel"
   ]
  },
  {
   "cell_type": "code",
   "execution_count": 2,
   "metadata": {},
   "outputs": [],
   "source": [
    "names(data1)[2] <- \"Outstanding KPR\"\n",
    "names(data1)[7] <- \"Inflasi\"\n",
    "names(data1)[8] <- \"CreditRate\""
   ]
  },
  {
   "cell_type": "markdown",
   "metadata": {},
   "source": [
    "### 2.1.3. Melakukan Estimasi OLS"
   ]
  },
  {
   "cell_type": "code",
   "execution_count": 3,
   "metadata": {},
   "outputs": [
    {
     "data": {
      "text/plain": [
       "\n",
       "Call:\n",
       "lm(formula = LnKPR ~ LnPDB + Inflasi + CreditRate + LnJII + DFTV, \n",
       "    data = data1)\n",
       "\n",
       "Residuals:\n",
       "      Min        1Q    Median        3Q       Max \n",
       "-0.138338 -0.029350  0.004568  0.029305  0.073667 \n",
       "\n",
       "Coefficients:\n",
       "             Estimate Std. Error t value Pr(>|t|)    \n",
       "(Intercept) -21.79826    2.19407  -9.935 8.61e-14 ***\n",
       "LnPDB         2.29744    0.14887  15.432  < 2e-16 ***\n",
       "Inflasi      -0.02407    0.02223  -1.083 0.283737    \n",
       "CreditRate    0.04397    0.01081   4.067 0.000156 ***\n",
       "LnJII         0.16152    0.10803   1.495 0.140715    \n",
       "DFTV          0.18359    0.03372   5.444 1.31e-06 ***\n",
       "---\n",
       "Signif. codes:  0 ‘***’ 0.001 ‘**’ 0.01 ‘*’ 0.05 ‘.’ 0.1 ‘ ’ 1\n",
       "\n",
       "Residual standard error: 0.04381 on 54 degrees of freedom\n",
       "Multiple R-squared:  0.9659,\tAdjusted R-squared:  0.9627 \n",
       "F-statistic: 305.6 on 5 and 54 DF,  p-value: < 2.2e-16\n"
      ]
     },
     "execution_count": null,
     "metadata": {},
     "output_type": "execute_result"
    }
   ],
   "source": [
    "regresi1 = lm(LnKPR ~ LnPDB + Inflasi + CreditRate + LnJII + DFTV, data=data1)\n",
    "summary(regresi1)"
   ]
  },
  {
   "cell_type": "markdown",
   "metadata": {},
   "source": [
    "### 2.1.4. Melakukan Uji Normalitas"
   ]
  },
  {
   "cell_type": "code",
   "execution_count": 4,
   "metadata": {},
   "outputs": [
    {
     "data": {
      "text/plain": [
       "\n",
       "Call:\n",
       "lm(formula = LnKPR ~ LnPDB + Inflasi + CreditRate + LnJII + DFTV, \n",
       "    data = data1)\n",
       "\n",
       "Coefficients:\n",
       "(Intercept)        LnPDB      Inflasi   CreditRate        LnJII         DFTV  \n",
       "  -21.79826      2.29744     -0.02407      0.04397      0.16152      0.18359  \n",
       "\n",
       "\n",
       "ASSESSMENT OF THE LINEAR MODEL ASSUMPTIONS\n",
       "USING THE GLOBAL TEST ON 4 DEGREES-OF-FREEDOM:\n",
       "Level of Significance =  0.05 \n",
       "\n",
       "Call:\n",
       " gvlma(x = regresi1) \n",
       "\n",
       "                     Value p-value                Decision\n",
       "Global Stat        7.04469 0.13355 Assumptions acceptable.\n",
       "Skewness           3.60383 0.05765 Assumptions acceptable.\n",
       "Kurtosis           0.86268 0.35299 Assumptions acceptable.\n",
       "Link Function      2.52749 0.11188 Assumptions acceptable.\n",
       "Heteroscedasticity 0.05069 0.82187 Assumptions acceptable."
      ]
     },
     "execution_count": null,
     "metadata": {},
     "output_type": "execute_result"
    }
   ],
   "source": [
    "# Uji Normalitas\n",
    "# install.packages(\"gvlma\")\n",
    "library(\"gvlma\")\n",
    "gvlma(regresi1)"
   ]
  },
  {
   "cell_type": "markdown",
   "metadata": {},
   "source": [
    "### 2.1.5. Uji Heteroskedastisitas"
   ]
  },
  {
   "cell_type": "code",
   "execution_count": 5,
   "metadata": {},
   "outputs": [
    {
     "name": "stdout",
     "output_type": "stream",
     "text": [
      "Loading required package: carData\n",
      "Loading required package: carData\n"
     ]
    },
    {
     "name": "stderr",
     "output_type": "stream",
     "text": [
      "Warning messages:\n",
      "1: package ‘car’ was built under R version 4.3.3 \n",
      "2: package ‘carData’ was built under R version 4.3.3 \n"
     ]
    },
    {
     "data": {
      "text/plain": [
       "Non-constant Variance Score Test \n",
       "Variance formula: ~ fitted.values \n",
       "Chisquare = 0.4905034, Df = 1, p = 0.4837"
      ]
     },
     "execution_count": null,
     "metadata": {},
     "output_type": "execute_result"
    }
   ],
   "source": [
    "# install.packages(\"car\", dependencies = TRUE)\n",
    "library(car)\n",
    "ncvTest(regresi1)"
   ]
  },
  {
   "cell_type": "markdown",
   "metadata": {},
   "source": [
    "### 2.1.5 Uji Autokorelasi"
   ]
  },
  {
   "cell_type": "code",
   "execution_count": 6,
   "metadata": {},
   "outputs": [
    {
     "name": "stdout",
     "output_type": "stream",
     "text": [
      "Loading required package: zoo\n",
      "\n",
      "Attaching package: ‘zoo’\n",
      "\n",
      "Loading required package: zoo\n",
      "\n",
      "Attaching package: ‘zoo’\n",
      "\n"
     ]
    },
    {
     "name": "stdout",
     "output_type": "stream",
     "text": [
      "The following objects are masked from ‘package:base’:\n",
      "\n",
      "    as.Date, as.Date.numeric\n",
      "\n",
      "The following objects are masked from ‘package:base’:\n",
      "\n",
      "    as.Date, as.Date.numeric\n",
      "\n"
     ]
    },
    {
     "data": {
      "text/plain": [
       "\n",
       "\tDurbin-Watson test\n",
       "\n",
       "data:  regresi1\n",
       "DW = 0.58729, p-value = 9.399e-13\n",
       "alternative hypothesis: true autocorrelation is greater than 0\n"
      ]
     },
     "execution_count": null,
     "metadata": {},
     "output_type": "execute_result"
    }
   ],
   "source": [
    "# install.packages(\"lmtest\")\n",
    "library(lmtest)\n",
    "dwtest(regresi1)"
   ]
  },
  {
   "cell_type": "markdown",
   "metadata": {},
   "source": [
    "### 2.1.6. Uji Multikolinearitas"
   ]
  },
  {
   "cell_type": "code",
   "execution_count": 7,
   "metadata": {},
   "outputs": [
    {
     "data": {
      "text/plain": [
       "     LnPDB    Inflasi CreditRate      LnJII       DFTV \n",
       "  4.011533   1.412398   5.368989   1.828592   8.404443 "
      ]
     },
     "execution_count": null,
     "metadata": {},
     "output_type": "execute_result"
    }
   ],
   "source": [
    "library(car)\n",
    "vif(regresi1)"
   ]
  },
  {
   "cell_type": "markdown",
   "metadata": {},
   "source": [
    "### 2.1.7 Robust Standard Error"
   ]
  },
  {
   "cell_type": "markdown",
   "metadata": {},
   "source": [
    "Tujuan untuk mengatasi masalah heteroskedastisitas dan masalah autokorelasi"
   ]
  },
  {
   "cell_type": "code",
   "execution_count": 8,
   "metadata": {},
   "outputs": [
    {
     "data": {
      "text/plain": [
       "\n",
       "t test of coefficients:\n",
       "\n",
       "              Estimate Std. Error t value  Pr(>|t|)    \n",
       "(Intercept) -21.798262   2.194072 -9.9351 8.608e-14 ***\n",
       "LnPDB         2.297444   0.148872 15.4323 < 2.2e-16 ***\n",
       "Inflasi      -0.024070   0.022230 -1.0827 0.2837365    \n",
       "CreditRate    0.043970   0.010811  4.0671 0.0001559 ***\n",
       "LnJII         0.161515   0.108031  1.4951 0.1407146    \n",
       "DFTV          0.183586   0.033723  5.4440 1.305e-06 ***\n",
       "---\n",
       "Signif. codes:  0 ‘***’ 0.001 ‘**’ 0.01 ‘*’ 0.05 ‘.’ 0.1 ‘ ’ 1\n"
      ]
     },
     "execution_count": null,
     "metadata": {},
     "output_type": "execute_result"
    }
   ],
   "source": [
    "coeftest(regresi1, vcof = vcofHAC)"
   ]
  },
  {
   "cell_type": "code",
   "execution_count": 9,
   "metadata": {},
   "outputs": [
    {
     "data": {
      "text/plain": [
       "NULL"
      ]
     },
     "execution_count": null,
     "metadata": {},
     "output_type": "execute_result"
    }
   ],
   "source": []
  }
 ],
 "metadata": {
  "language_info": {
   "name": "r"
  }
 },
 "nbformat": 4,
 "nbformat_minor": 2
}
