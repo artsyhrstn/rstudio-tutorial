{
 "cells": [
  {
   "cell_type": "markdown",
   "metadata": {},
   "source": [
    "# R-Studio Time Series"
   ]
  },
  {
   "cell_type": "markdown",
   "metadata": {},
   "source": [
    "## 3. Univariate Time Series: ARIMA, ARCH, dan GARCH"
   ]
  },
  {
   "cell_type": "code",
   "execution_count": 11,
   "metadata": {},
   "outputs": [],
   "source": [
    "View(hargaberas)"
   ]
  },
  {
   "cell_type": "markdown",
   "metadata": {},
   "source": [
    "## 3.1. Box-Jenkins"
   ]
  },
  {
   "cell_type": "markdown",
   "metadata": {},
   "source": [
    "Prosedur Box-Jenkins dalam ARIMA\n",
    "1. Identifikasi\n",
    "2. Estimasi Model\n",
    "3. Evaluasi Model\n",
    "4. Peramalan"
   ]
  },
  {
   "cell_type": "markdown",
   "metadata": {},
   "source": [
    "## 3.1. Identifikasi"
   ]
  },
  {
   "cell_type": "markdown",
   "metadata": {},
   "source": [
    "### 3.1.2. Inisialisasi Data"
   ]
  },
  {
   "cell_type": "code",
   "execution_count": 9,
   "metadata": {},
   "outputs": [
    {
     "name": "stderr",
     "output_type": "stream",
     "text": [
      "\r-\r/\r                                                                                                                                                \r\r/\r                                                                                                                                                \r\r-\r                                                                                                                                                \r"
     ]
    }
   ],
   "source": [
    "library(readxl)\n",
    "hargaberas <- read_excel('C:\\\\Users\\\\hisbi\\\\iCloudDrive\\\\repository\\\\R-tutorial\\\\data-i\\\\Bab 3\\\\ARIMA.xlsx')"
   ]
  },
  {
   "cell_type": "markdown",
   "metadata": {},
   "source": [
    "### 3.1.2. Inisialisasi Data Time Series"
   ]
  },
  {
   "cell_type": "code",
   "execution_count": 12,
   "metadata": {},
   "outputs": [
    {
     "data": {
      "text/plain": [
       "       Jan   Feb   Mar   Apr   May   Jun   Jul   Aug   Sep   Oct   Nov   Dec\n",
       "2012  8726  8778  8687  8583  8537  8554  8606  8635  8624  8624  8655  8702\n",
       "2013  8835  8843  8783  8711  8681  8784  9018  9057  9058  9108  9152  9262\n",
       "2014  9433  9531  9596  9425  9414  9462  9525  9525  9694  9781  9924 10344\n",
       "2015 10612 10766 10987 10648 10569 10679 10732 10935 11055 11169 11365 11465\n",
       "2016 11614 11729 11678 11449 11417 11469 11498 11475 11448 11433 11450 11476\n",
       "2017 11579 11571 11494 11449 11465 11465 11448 11411 11482 11552 11665 11838\n",
       "2018 12276 12414 12299 12035 11943 11907 11936 11899 11900 11926 12013 12106"
      ]
     },
     "execution_count": null,
     "metadata": {},
     "output_type": "execute_result"
    }
   ],
   "source": [
    "hargaberas = hargaberas[,c(-1)]\n",
    "hargaberas = ts(hargaberas, start=c(2012,1), frequency=12)\n",
    "hargaberas"
   ]
  },
  {
   "cell_type": "markdown",
   "metadata": {},
   "source": [
    "\n",
    "[,c(-1)] = Menghapus kolom ke-1 pada objek harga beras.\n",
    "\n",
    "ts = Membuat periode waktu data harga beras (format sebelumnya belum dapat dibaca oleh software RStudio)\n",
    "data = \n",
    "start = observasi pertama pada data, dapat berupa nomor tunggal atau vektor\n",
    "frequency = jumlah observasi per unit waktu (kuartal = 4, tahun = 1), tidak cocok digunakan untuk data harian karena biasanya terdapat perbedaan unit waktu dalam data harian."
   ]
  },
  {
   "cell_type": "markdown",
   "metadata": {},
   "source": [
    "### 2.1.3. Visualisasi Harga Beras"
   ]
  },
  {
   "cell_type": "code",
   "execution_count": 13,
   "metadata": {},
   "outputs": [],
   "source": [
    "par(mfrow=c(1,1))\n",
    "plot(hargaberas, main=\"Harga Beras di Perdagangan Besar\")"
   ]
  },
  {
   "cell_type": "markdown",
   "metadata": {},
   "source": [
    "### 2.1.4. Dekomposisi"
   ]
  },
  {
   "cell_type": "markdown",
   "metadata": {},
   "source": [
    "Fungsi dekomposisi digunakan untuk melakukan dekomposisi data hargaberas menjadi beberapa komponen time series\n",
    "\n",
    "1. random \n",
    "2. seasonal\n",
    "3. trend\n",
    "4. observed\n",
    "\n",
    "\n",
    "Hal ini berguna untuk mengetahui keberadaan komponen time series sehingga menjadi pertimbangan dalam membuat model"
   ]
  },
  {
   "cell_type": "code",
   "execution_count": 19,
   "metadata": {},
   "outputs": [],
   "source": [
    "dekomposisi = decompose(hargaberas)\n",
    "plot(dekomposisi)"
   ]
  },
  {
   "cell_type": "markdown",
   "metadata": {},
   "source": [
    "### 3.1.5. Melihat ACF dan PACF"
   ]
  },
  {
   "cell_type": "code",
   "execution_count": 35,
   "metadata": {},
   "outputs": [
    {
     "ename": "",
     "evalue": "\u001b[1m\u001b[33mError\u001b[39m in `plot.new()`:\u001b[22m\n\u001b[33m!\u001b[39m figure margins too large",
     "output_type": "error",
     "traceback": [
      "\u001b[1m\u001b[33mError\u001b[39m in `plot.new()`:\u001b[22m\n",
      "\u001b[33m!\u001b[39m figure margins too large\n",
      "\u001b[90m    \u001b[39m▆\n",
      "\u001b[90m 1. \u001b[39m└─\u001b[1mstats\u001b[22m::acf(hargaberas, lag = 48)\n",
      "\u001b[90m 2. \u001b[39m  └─stats:::plot.acf(acf.out, ...)\n",
      "\u001b[90m 3. \u001b[39m    ├─\u001b[1mbase\u001b[22m::plot(...)\n",
      "\u001b[90m 4. \u001b[39m    └─\u001b[1mgraphics\u001b[22m::plot.default(...)\n",
      "\u001b[90m 5. \u001b[39m      └─graphics::plot.new()"
     ]
    }
   ],
   "source": [
    "par (mfrow=c(2, 1)) # Jendela plot 2 baris 1 kolom\n",
    "acf(hargaberas, lag=48)\n",
    "pacf(hargaberas, lag=48)"
   ]
  },
  {
   "cell_type": "markdown",
   "metadata": {},
   "source": [
    "### 3.1.6. Uji Stationeritas"
   ]
  },
  {
   "cell_type": "code",
   "execution_count": 38,
   "metadata": {},
   "outputs": [
    {
     "name": "stdout",
     "output_type": "stream",
     "text": [
      "\n",
      "Attaching package: ‘aTSA’\n",
      "\n",
      "The following object is masked from ‘package:graphics’:\n",
      "\n",
      "    identify\n",
      "\n",
      "\n",
      "\n",
      "Attaching package: ‘aTSA’\n",
      "\n",
      "The following object is masked from ‘package:graphics’:\n",
      "\n",
      "    identify\n",
      "\n"
     ]
    },
    {
     "name": "stdout",
     "output_type": "stream",
     "text": [
      "Augmented Dickey-Fuller Test \n",
      "alternative: stationary \n",
      " \n",
      "Type 1: no drift no trend \n",
      "     lag  ADF p.value\n",
      "[1,]   0 2.96   0.990\n",
      "[2,]   1 1.65   0.975\n",
      "[3,]   2 2.04   0.990\n",
      "[4,]   3 2.18   0.990\n",
      "Type 2: with drift no trend \n",
      "     lag    ADF p.value\n",
      "[1,]   0 -0.537   0.858\n",
      "[2,]   1 -0.717   0.795\n",
      "[3,]   2 -0.831   0.755\n",
      "[4,]   3 -0.917   0.724\n",
      "Type 3: with drift and trend \n",
      "     lag   ADF p.value\n",
      "[1,]   0 -1.42   0.814\n",
      "[2,]   1 -2.56   0.340\n",
      "[3,]   2 -2.00   0.570\n",
      "[4,]   3 -1.78   0.663\n",
      "---- \n",
      "Note: in fact, p.value = 0.01 means p.value <= 0.01 \n",
      "Augmented Dickey-Fuller Test \n",
      "alternative: stationary \n",
      " \n",
      "Type 1: no drift no trend \n",
      "     lag  ADF p.value\n",
      "[1,]   0 2.96   0.990\n",
      "[2,]   1 1.65   0.975\n",
      "[3,]   2 2.04   0.990\n",
      "[4,]   3 2.18   0.990\n",
      "Type 2: with drift no trend \n",
      "     lag    ADF p.value\n",
      "[1,]   0 -0.537   0.858\n",
      "[2,]   1 -0.717   0.795\n",
      "[3,]   2 -0.831   0.755\n",
      "[4,]   3 -0.917   0.724\n",
      "Type 3: with drift and trend \n",
      "     lag   ADF p.value\n",
      "[1,]   0 -1.42   0.814\n",
      "[2,]   1 -2.56   0.340\n",
      "[3,]   2 -2.00   0.570\n",
      "[4,]   3 -1.78   0.663\n",
      "---- \n",
      "Note: in fact, p.value = 0.01 means p.value <= 0.01 \n"
     ]
    }
   ],
   "source": [
    "library(\"aTSA\")\n",
    "adf.test(hargaberas)"
   ]
  },
  {
   "cell_type": "code",
   "execution_count": 39,
   "metadata": {},
   "outputs": [
    {
     "name": "stdout",
     "output_type": "stream",
     "text": [
      "Augmented Dickey-Fuller Test \n",
      "alternative: stationary \n",
      " \n",
      "Type 1: no drift no trend \n",
      "     lag   ADF p.value\n",
      "[1,]   0 -5.11    0.01\n",
      "[2,]   1 -5.02    0.01\n",
      "[3,]   2 -4.42    0.01\n",
      "[4,]   3 -4.36    0.01\n",
      "Type 2: with drift no trend \n",
      "     lag   ADF p.value\n",
      "[1,]   0 -5.47    0.01\n",
      "[2,]   1 -5.58    0.01\n",
      "[3,]   2 -5.10    0.01\n",
      "[4,]   3 -5.27    0.01\n",
      "Type 3: with drift and trend \n",
      "     lag   ADF p.value\n",
      "[1,]   0 -5.43    0.01\n",
      "[2,]   1 -5.55    0.01\n",
      "[3,]   2 -5.10    0.01\n",
      "[4,]   3 -5.28    0.01\n",
      "---- \n",
      "Note: in fact, p.value = 0.01 means p.value <= 0.01 \n",
      "Augmented Dickey-Fuller Test \n",
      "alternative: stationary \n",
      " \n",
      "Type 1: no drift no trend \n",
      "     lag   ADF p.value\n",
      "[1,]   0 -5.11    0.01\n",
      "[2,]   1 -5.02    0.01\n",
      "[3,]   2 -4.42    0.01\n",
      "[4,]   3 -4.36    0.01\n",
      "Type 2: with drift no trend \n",
      "     lag   ADF p.value\n",
      "[1,]   0 -5.47    0.01\n",
      "[2,]   1 -5.58    0.01\n",
      "[3,]   2 -5.10    0.01\n",
      "[4,]   3 -5.27    0.01\n",
      "Type 3: with drift and trend \n",
      "     lag   ADF p.value\n",
      "[1,]   0 -5.43    0.01\n",
      "[2,]   1 -5.55    0.01\n",
      "[3,]   2 -5.10    0.01\n",
      "[4,]   3 -5.28    0.01\n",
      "---- \n",
      "Note: in fact, p.value = 0.01 means p.value <= 0.01 \n"
     ]
    }
   ],
   "source": [
    "adf.test(diff(hargaberas))"
   ]
  },
  {
   "cell_type": "markdown",
   "metadata": {},
   "source": [
    "## 3.2. Estimasi Model"
   ]
  },
  {
   "cell_type": "code",
   "execution_count": 40,
   "metadata": {},
   "outputs": [
    {
     "name": "stdout",
     "output_type": "stream",
     "text": [
      "Registered S3 method overwritten by 'quantmod':\n",
      "  method            from\n",
      "  as.zoo.data.frame zoo \n",
      "Registered S3 method overwritten by 'quantmod':\n",
      "  method            from\n",
      "  as.zoo.data.frame zoo \n"
     ]
    },
    {
     "name": "stdout",
     "output_type": "stream",
     "text": [
      "\n",
      "Attaching package: ‘forecast’\n",
      "\n",
      "The following object is masked from ‘package:aTSA’:\n",
      "\n",
      "    forecast\n",
      "\n",
      "\n",
      "\n",
      "Attaching package: ‘forecast’\n",
      "\n",
      "The following object is masked from ‘package:aTSA’:\n",
      "\n",
      "    forecast\n",
      "\n"
     ]
    },
    {
     "name": "stdout",
     "output_type": "stream",
     "text": [
      "\n",
      " \n",
      "\n",
      " "
     ]
    },
    {
     "name": "stdout",
     "output_type": "stream",
     "text": [
      "ARIMA(2,1,2)(1,1,1)[12]                    : Inf\n",
      " ARIMA(0,1,0)(0,1,0)[12]                    : 884.0934\n",
      " ARIMA(1,1,0)(1,1,0)[12]                    : 872.3993\n",
      " ARIMA(0,1,1)(0,1,1)[12]                    : Inf\n",
      " ARIMA(1,1,0)(0,1,0)[12]                    : 876.5573ARIMA(2,1,2)(1,1,1)[12]                    : Inf\n",
      " ARIMA(0,1,0)(0,1,0)[12]                    : 884.0934\n",
      " ARIMA(1,1,0)(1,1,0)[12]                    : 872.3993\n",
      " ARIMA(0,1,1)(0,1,1)[12]                    : Inf\n",
      " ARIMA(1,1,0)(0,1,0)[12]                    : 876.5573"
     ]
    },
    {
     "name": "stdout",
     "output_type": "stream",
     "text": [
      "\n",
      " ARIMA(1,1,0)(2,1,0)[12]                    : 863.6643\n",
      "\n",
      " ARIMA(1,1,0)(2,1,0)[12]                    : 863.6643"
     ]
    },
    {
     "name": "stdout",
     "output_type": "stream",
     "text": [
      "\n",
      " ARIMA(1,1,0)(2,1,1)[12]                    : Inf\n",
      " ARIMA(1,1,0)(1,1,1)[12]                    : Inf\n",
      " ARIMA(0,1,0)(2,1,0)[12]                    : 867.3178\n",
      "\n",
      " ARIMA(1,1,0)(2,1,1)[12]                    : Inf\n",
      " ARIMA(1,1,0)(1,1,1)[12]                    : Inf\n",
      " ARIMA(0,1,0)(2,1,0)[12]                    : 867.3178"
     ]
    },
    {
     "name": "stdout",
     "output_type": "stream",
     "text": [
      "\n",
      " ARIMA(2,1,0)(2,1,0)[12]                    : 865.871\n",
      "\n",
      " ARIMA(2,1,0)(2,1,0)[12]                    : 865.871"
     ]
    },
    {
     "name": "stdout",
     "output_type": "stream",
     "text": [
      "\n",
      " ARIMA(1,1,1)(2,1,0)[12]                    : 865.1084\n",
      " ARIMA(0,1,1)(2,1,0)[12]                    : 862.9856\n",
      "\n",
      "\n",
      " ARIMA(1,1,1)(2,1,0)[12]                    : 865.1084\n",
      " ARIMA(0,1,1)(2,1,0)[12]                    : 862.9856\n"
     ]
    },
    {
     "name": "stdout",
     "output_type": "stream",
     "text": [
      " ARIMA(0,1,1)(1,1,0)[12]                    : 871.9363 ARIMA(0,1,1)(1,1,0)[12]                    : 871.9363"
     ]
    },
    {
     "name": "stdout",
     "output_type": "stream",
     "text": [
      "\n",
      " ARIMA(0,1,1)(2,1,1)[12]                    : Inf\n",
      " \n",
      "\n",
      " ARIMA(0,1,1)(2,1,1)[12]                    : Inf\n",
      " "
     ]
    },
    {
     "name": "stdout",
     "output_type": "stream",
     "text": [
      "ARIMA(0,1,1)(1,1,1)[12]                    : InfARIMA(0,1,1)(1,1,1)[12]                    : Inf"
     ]
    },
    {
     "name": "stdout",
     "output_type": "stream",
     "text": [
      "\n",
      " ARIMA(0,1,2)(2,1,0)[12]                    : 861.8543\n",
      " ARIMA(0,1,2)(1,1,0)[12]                    : 872.2305\n",
      "\n",
      " ARIMA(0,1,2)(2,1,0)[12]                    : 861.8543\n",
      " ARIMA(0,1,2)(1,1,0)[12]                    : 872.2305"
     ]
    },
    {
     "name": "stdout",
     "output_type": "stream",
     "text": [
      "\n",
      " ARIMA(0,1,2)(2,1,1)[12]                    : Inf\n",
      "\n",
      "\n",
      " ARIMA(0,1,2)(2,1,1)[12]                    : Inf\n"
     ]
    },
    {
     "name": "stdout",
     "output_type": "stream",
     "text": [
      " ARIMA(0,1,2)(1,1,1)[12]                    : Inf ARIMA(0,1,2)(1,1,1)[12]                    : Inf"
     ]
    },
    {
     "name": "stdout",
     "output_type": "stream",
     "text": [
      "\n",
      " ARIMA(1,1,2)(2,1,0)[12]                    : 867.0498\n",
      "\n",
      " ARIMA(1,1,2)(2,1,0)[12]                    : 867.0498"
     ]
    },
    {
     "name": "stdout",
     "output_type": "stream",
     "text": [
      "\n",
      " ARIMA(0,1,3)(2,1,0)[12]                    : 854.8026\n",
      " \n",
      "\n",
      " ARIMA(0,1,3)(2,1,0)[12]                    : 854.8026\n",
      " "
     ]
    },
    {
     "name": "stdout",
     "output_type": "stream",
     "text": [
      "ARIMA(0,1,3)(1,1,0)[12]                    : 865.2557ARIMA(0,1,3)(1,1,0)[12]                    : 865.2557"
     ]
    },
    {
     "name": "stdout",
     "output_type": "stream",
     "text": [
      "\n",
      " ARIMA(0,1,3)(2,1,1)[12]                    : Inf\n",
      "\n",
      " ARIMA(0,1,3)(2,1,1)[12]                    : Inf"
     ]
    },
    {
     "name": "stdout",
     "output_type": "stream",
     "text": [
      "\n",
      " ARIMA(0,1,3)(1,1,1)[12]                    : Inf\n",
      "\n",
      " ARIMA(0,1,3)(1,1,1)[12]                    : Inf"
     ]
    },
    {
     "name": "stdout",
     "output_type": "stream",
     "text": [
      "\n",
      " ARIMA(1,1,3)(2,1,0)[12]                    : Inf\n",
      "\n",
      " ARIMA(1,1,3)(2,1,0)[12]                    : Inf"
     ]
    },
    {
     "name": "stdout",
     "output_type": "stream",
     "text": [
      "\n",
      " ARIMA(0,1,4)(2,1,0)[12]                    : 857.2177\n",
      "\n",
      " ARIMA(0,1,4)(2,1,0)[12]                    : 857.2177"
     ]
    },
    {
     "name": "stdout",
     "output_type": "stream",
     "text": [
      "\n",
      " ARIMA(1,1,4)(2,1,0)[12]                    : 859.7882\n",
      "\n",
      " Best model: ARIMA(0,1,3)(2,1,0)[12]                    \n",
      "\n",
      "\n",
      "\n",
      " ARIMA(1,1,4)(2,1,0)[12]                    : 859.7882\n",
      "\n",
      " Best model: ARIMA(0,1,3)(2,1,0)[12]                    \n",
      "\n"
     ]
    },
    {
     "data": {
      "text/plain": [
       "Series: hargaberas \n",
       "ARIMA(0,1,3)(2,1,0)[12] \n",
       "\n",
       "Coefficients:\n",
       "         ma1     ma2     ma3     sar1     sar2\n",
       "      0.3775  0.0028  0.4180  -0.4831  -0.4956\n",
       "s.e.  0.1166  0.1301  0.1403   0.1231   0.1239\n",
       "\n",
       "sigma^2 = 7757:  log likelihood = -420.75\n",
       "AIC=853.49   AICc=854.8   BIC=867.07"
      ]
     },
     "execution_count": null,
     "metadata": {},
     "output_type": "execute_result"
    }
   ],
   "source": [
    "library(forecast)\n",
    "auto.arima(hargaberas, trace=TRUE)"
   ]
  },
  {
   "cell_type": "markdown",
   "metadata": {},
   "source": [
    "Berdasarkan output tersebut, model terbaik yang menjadi rekomendasi adalah ARIMA (0,1,3)(2,1,0)[12]\n",
    "\n",
    "Hal tersebut karena memiliki AIC terkecil\n",
    "\n",
    "Model tersebut juga\n",
    "1. Memiliki komponen nonseasonal\n",
    "2. Seasonal"
   ]
  },
  {
   "cell_type": "code",
   "execution_count": 46,
   "metadata": {},
   "outputs": [
    {
     "name": "stdout",
     "output_type": "stream",
     "text": [
      "Loading required package: zoo\n",
      "\n",
      "Attaching package: ‘zoo’\n",
      "\n",
      "The following objects are masked from ‘package:base’:\n",
      "\n",
      "    as.Date, as.Date.numeric\n",
      "\n",
      "Loading required package: zoo\n",
      "\n",
      "Attaching package: ‘zoo’\n",
      "\n",
      "The following objects are masked from ‘package:base’:\n",
      "\n",
      "    as.Date, as.Date.numeric\n",
      "\n"
     ]
    },
    {
     "data": {
      "text/plain": [
       "\n",
       "z test of coefficients:\n",
       "\n",
       "      Estimate Std. Error z value  Pr(>|z|)    \n",
       "ma1   0.377526   0.116627  3.2370  0.001208 ** \n",
       "ma2   0.002799   0.130115  0.0215  0.982837    \n",
       "ma3   0.417985   0.140264  2.9800  0.002883 ** \n",
       "sar1 -0.483126   0.123055 -3.9261 8.634e-05 ***\n",
       "sar2 -0.495630   0.123883 -4.0008 6.313e-05 ***\n",
       "---\n",
       "Signif. codes:  0 ‘***’ 0.001 ‘**’ 0.01 ‘*’ 0.05 ‘.’ 0.1 ‘ ’ 1\n"
      ]
     },
     "execution_count": null,
     "metadata": {},
     "output_type": "execute_result"
    }
   ],
   "source": [
    "# Mengetahui nilai koefisien, standard error, dan p-value\n",
    "library(lmtest)\n",
    "# ARIMA(0,1,3)(2,1,0)[12]\n",
    "model1 = arima(hargaberas, order=c(0,1,3), seasonal = list(order=c(2,1,0), period=12)) # Model ARIMA manual\n",
    "coeftest(model1)"
   ]
  },
  {
   "cell_type": "markdown",
   "metadata": {},
   "source": [
    "Model1 merupakan model dengan AIC terkecil dan juga parsimoniuos. Koefisien dugaan nyata atay signidikan dan tellah memenuhi kondisi invertibilitas\n",
    "\n",
    "Invertibilitas = Nilai koefisien kurang dari satu"
   ]
  },
  {
   "cell_type": "markdown",
   "metadata": {},
   "source": [
    "## 3.3. Evaluasi Model"
   ]
  },
  {
   "cell_type": "markdown",
   "metadata": {},
   "source": [
    "Uji Heteroskedastisitas dan keacakan residual"
   ]
  },
  {
   "cell_type": "markdown",
   "metadata": {},
   "source": [
    "### 3.3.1. Uji Heteroskedastisitas"
   ]
  },
  {
   "cell_type": "code",
   "execution_count": 47,
   "metadata": {},
   "outputs": [
    {
     "name": "stdout",
     "output_type": "stream",
     "text": [
      "ARCH heteroscedasticity test for residuals \n",
      "alternative: heteroscedastic \n",
      "\n",
      "Portmanteau-Q test: \n",
      "     order    PQ p.value\n",
      "[1,]     4  5.41   0.247\n",
      "[2,]     8  8.53   0.384\n",
      "[3,]    12 11.36   0.498\n",
      "[4,]    16 13.03   0.670\n",
      "[5,]    20 14.44   0.808\n",
      "[6,]    24 16.04   0.887\n",
      "Lagrange-Multiplier test: \n",
      "     order    LM  p.value\n",
      "[1,]     4 41.16 6.04e-09\n",
      "[2,]     8 13.84 5.42e-02\n",
      "[3,]    12  6.06 8.69e-01\n",
      "[4,]    16  3.39 9.99e-01\n",
      "[5,]    20  2.16 1.00e+00\n",
      "[6,]    24  1.16 1.00e+00\n",
      "ARCH heteroscedasticity test for residuals \n",
      "alternative: heteroscedastic \n",
      "\n",
      "Portmanteau-Q test: \n",
      "     order    PQ p.value\n",
      "[1,]     4  5.41   0.247\n",
      "[2,]     8  8.53   0.384\n",
      "[3,]    12 11.36   0.498\n",
      "[4,]    16 13.03   0.670\n",
      "[5,]    20 14.44   0.808\n",
      "[6,]    24 16.04   0.887\n",
      "Lagrange-Multiplier test: \n",
      "     order    LM  p.value\n",
      "[1,]     4 41.16 6.04e-09\n",
      "[2,]     8 13.84 5.42e-02\n",
      "[3,]    12  6.06 8.69e-01\n",
      "[4,]    16  3.39 9.99e-01\n",
      "[5,]    20  2.16 1.00e+00\n",
      "[6,]    24  1.16 1.00e+00\n"
     ]
    }
   ],
   "source": [
    "# Uji heteroskedastisitas --> Cukup arima atau perlu dilanjutkan dengan ARCH/GARCH\n",
    "arch.test(model1)"
   ]
  },
  {
   "cell_type": "markdown",
   "metadata": {},
   "source": [
    "Berdasarkan output, tidak terdapat heteroskedastisitas pada model."
   ]
  },
  {
   "cell_type": "markdown",
   "metadata": {},
   "source": [
    "### 3.3.2. Uji Keacakan Reisudal"
   ]
  },
  {
   "cell_type": "code",
   "execution_count": 48,
   "metadata": {},
   "outputs": [
    {
     "data": {
      "text/plain": [
       "\n",
       "\tBox-Ljung test\n",
       "\n",
       "data:  model1$residuals\n",
       "X-squared = 0.0041444, df = 1, p-value = 0.9487\n"
      ]
     },
     "execution_count": null,
     "metadata": {},
     "output_type": "execute_result"
    }
   ],
   "source": [
    "# diagnostik mmodel (autokorelasi)\n",
    "Box.test(model1$residuals, lag = 1, type = c(\"Ljung-Box\"), fitdf = 0)"
   ]
  },
  {
   "cell_type": "markdown",
   "metadata": {},
   "source": [
    "Berdasarkan output, p-value 0.9487 > taraf signifikansi (0.05) sehingga dapat disimpulkan gagal tolak H0, sehingga tidak cukup bukti untuk menyatakan adanya autokorelasi.\n",
    "\n",
    "Seluruh asumsi pada evaluasi model terpenuhi sehingga dapat melakukan peramalan data harga beras dengan model 1"
   ]
  },
  {
   "cell_type": "markdown",
   "metadata": {},
   "source": [
    "## 3.4. Forecast"
   ]
  },
  {
   "cell_type": "code",
   "execution_count": 49,
   "metadata": {},
   "outputs": [
    {
     "data": {
      "text/plain": [
       "         Point Forecast    Lo 80    Hi 80    Lo 95    Hi 95\n",
       "Jan 2019       12355.67 12246.95 12464.39 12189.39 12521.95\n",
       "Feb 2019       12493.09 12308.02 12678.16 12210.05 12776.13\n",
       "Mar 2019       12392.80 12154.53 12631.07 12028.40 12757.21\n",
       "Apr 2019       12143.41 11835.19 12451.63 11672.03 12614.80\n",
       "May 2019       12079.80 11714.79 12444.80 11521.57 12638.02\n",
       "Jun 2019       12086.96 11672.89 12501.04 11453.70 12720.23\n",
       "Jul 2019       12116.54 11658.63 12574.45 11416.22 12816.85\n",
       "Aug 2019       12086.48 11588.57 12584.38 11325.00 12847.96\n",
       "Sep 2019       12072.73 11537.81 12607.64 11254.64 12890.81\n",
       "Oct 2019       12077.85 11508.32 12647.38 11206.83 12948.88\n",
       "Nov 2019       12129.83 11527.68 12731.99 11208.92 13050.75\n",
       "Dec 2019       12188.63 11555.52 12821.73 11220.38 13156.88"
      ]
     },
     "execution_count": null,
     "metadata": {},
     "output_type": "execute_result"
    }
   ],
   "source": [
    "forecast(model1, h=12)"
   ]
  },
  {
   "cell_type": "code",
   "execution_count": 55,
   "metadata": {},
   "outputs": [
    {
     "ename": "",
     "evalue": "\u001b[1m\u001b[33mError\u001b[39m in `plot.new()`:\u001b[22m\n\u001b[33m!\u001b[39m figure margins too large",
     "output_type": "error",
     "traceback": [
      "\u001b[1m\u001b[33mError\u001b[39m in `plot.new()`:\u001b[22m\n",
      "\u001b[33m!\u001b[39m figure margins too large\n",
      "\u001b[90m    \u001b[39m▆\n",
      "\u001b[90m 1. \u001b[39m├─\u001b[1mbase\u001b[22m::plot(forecast(model1, h = 12))\n",
      "\u001b[90m 2. \u001b[39m└─\u001b[1mforecast\u001b[22m:::plot.forecast(forecast(model1, h = 12))\n",
      "\u001b[90m 3. \u001b[39m  ├─\u001b[1mbase\u001b[22m::plot(...)\n",
      "\u001b[90m 4. \u001b[39m  └─\u001b[1mstats\u001b[22m::plot.ts(...)\n",
      "\u001b[90m 5. \u001b[39m    └─stats (local) plotts(...)\n",
      "\u001b[90m 6. \u001b[39m      └─\u001b[1mgraphics\u001b[22m::plot.new()"
     ]
    }
   ],
   "source": [
    "plot(forecast(model1, h=12))"
   ]
  },
  {
   "cell_type": "markdown",
   "metadata": {},
   "source": []
  },
  {
   "cell_type": "markdown",
   "metadata": {},
   "source": []
  },
  {
   "cell_type": "markdown",
   "metadata": {},
   "source": []
  }
 ],
 "metadata": {
  "language_info": {
   "name": "r"
  }
 },
 "nbformat": 4,
 "nbformat_minor": 2
}
